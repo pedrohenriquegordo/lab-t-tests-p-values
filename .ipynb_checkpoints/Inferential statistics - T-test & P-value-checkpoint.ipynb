{
 "cells": [
  {
   "cell_type": "code",
   "execution_count": 17,
   "id": "f73d38f8",
   "metadata": {},
   "outputs": [],
   "source": [
    "import pandas as pd\n",
    "import numpy as np\n",
    "import scipy.stats as stats"
   ]
  },
  {
   "cell_type": "code",
   "execution_count": 2,
   "id": "b0ee0945",
   "metadata": {},
   "outputs": [],
   "source": [
    "new_machine=[42.1,41,41.3,41.8,42.4,42.8,43.2,42.3,41.8,42.7]\n",
    "old_machine=[42.7,43.6,43.8,43.3,42.5,43.5,43.1,41.7,44,44.1]\n",
    "\n",
    "data=pd.DataFrame(columns=['new_machine','old_machine'])\n",
    "data['new_machine']=new_machine\n",
    "data['old_machine']=old_machine"
   ]
  },
  {
   "cell_type": "code",
   "execution_count": 3,
   "id": "79dc4c5f",
   "metadata": {},
   "outputs": [
    {
     "data": {
      "text/html": [
       "<div>\n",
       "<style scoped>\n",
       "    .dataframe tbody tr th:only-of-type {\n",
       "        vertical-align: middle;\n",
       "    }\n",
       "\n",
       "    .dataframe tbody tr th {\n",
       "        vertical-align: top;\n",
       "    }\n",
       "\n",
       "    .dataframe thead th {\n",
       "        text-align: right;\n",
       "    }\n",
       "</style>\n",
       "<table border=\"1\" class=\"dataframe\">\n",
       "  <thead>\n",
       "    <tr style=\"text-align: right;\">\n",
       "      <th></th>\n",
       "      <th>new_machine</th>\n",
       "      <th>old_machine</th>\n",
       "    </tr>\n",
       "  </thead>\n",
       "  <tbody>\n",
       "    <tr>\n",
       "      <th>0</th>\n",
       "      <td>42.1</td>\n",
       "      <td>42.7</td>\n",
       "    </tr>\n",
       "    <tr>\n",
       "      <th>1</th>\n",
       "      <td>41.0</td>\n",
       "      <td>43.6</td>\n",
       "    </tr>\n",
       "    <tr>\n",
       "      <th>2</th>\n",
       "      <td>41.3</td>\n",
       "      <td>43.8</td>\n",
       "    </tr>\n",
       "    <tr>\n",
       "      <th>3</th>\n",
       "      <td>41.8</td>\n",
       "      <td>43.3</td>\n",
       "    </tr>\n",
       "    <tr>\n",
       "      <th>4</th>\n",
       "      <td>42.4</td>\n",
       "      <td>42.5</td>\n",
       "    </tr>\n",
       "    <tr>\n",
       "      <th>5</th>\n",
       "      <td>42.8</td>\n",
       "      <td>43.5</td>\n",
       "    </tr>\n",
       "    <tr>\n",
       "      <th>6</th>\n",
       "      <td>43.2</td>\n",
       "      <td>43.1</td>\n",
       "    </tr>\n",
       "    <tr>\n",
       "      <th>7</th>\n",
       "      <td>42.3</td>\n",
       "      <td>41.7</td>\n",
       "    </tr>\n",
       "    <tr>\n",
       "      <th>8</th>\n",
       "      <td>41.8</td>\n",
       "      <td>44.0</td>\n",
       "    </tr>\n",
       "    <tr>\n",
       "      <th>9</th>\n",
       "      <td>42.7</td>\n",
       "      <td>44.1</td>\n",
       "    </tr>\n",
       "  </tbody>\n",
       "</table>\n",
       "</div>"
      ],
      "text/plain": [
       "   new_machine  old_machine\n",
       "0         42.1         42.7\n",
       "1         41.0         43.6\n",
       "2         41.3         43.8\n",
       "3         41.8         43.3\n",
       "4         42.4         42.5\n",
       "5         42.8         43.5\n",
       "6         43.2         43.1\n",
       "7         42.3         41.7\n",
       "8         41.8         44.0\n",
       "9         42.7         44.1"
      ]
     },
     "execution_count": 3,
     "metadata": {},
     "output_type": "execute_result"
    }
   ],
   "source": [
    "data"
   ]
  },
  {
   "cell_type": "markdown",
   "id": "8cb0a265",
   "metadata": {},
   "source": [
    "**H0:** The mean packing time of the new machine is equal to or worse than the current machine.\n",
    "\n",
    "\n",
    "**Ha:** The mean packing time of the new machine is significantly faster than the current machine."
   ]
  },
  {
   "cell_type": "markdown",
   "id": "08e558bf",
   "metadata": {},
   "source": [
    "Calculate the number of samples, means and standard deviations for each machine:"
   ]
  },
  {
   "cell_type": "code",
   "execution_count": 33,
   "id": "8872828a",
   "metadata": {},
   "outputs": [
    {
     "data": {
      "text/html": [
       "<div>\n",
       "<style scoped>\n",
       "    .dataframe tbody tr th:only-of-type {\n",
       "        vertical-align: middle;\n",
       "    }\n",
       "\n",
       "    .dataframe tbody tr th {\n",
       "        vertical-align: top;\n",
       "    }\n",
       "\n",
       "    .dataframe thead th {\n",
       "        text-align: right;\n",
       "    }\n",
       "</style>\n",
       "<table border=\"1\" class=\"dataframe\">\n",
       "  <thead>\n",
       "    <tr style=\"text-align: right;\">\n",
       "      <th></th>\n",
       "      <th>new_machine</th>\n",
       "      <th>old_machine</th>\n",
       "    </tr>\n",
       "  </thead>\n",
       "  <tbody>\n",
       "    <tr>\n",
       "      <th>count</th>\n",
       "      <td>10.000000</td>\n",
       "      <td>10.000000</td>\n",
       "    </tr>\n",
       "    <tr>\n",
       "      <th>mean</th>\n",
       "      <td>42.140000</td>\n",
       "      <td>43.230000</td>\n",
       "    </tr>\n",
       "    <tr>\n",
       "      <th>std</th>\n",
       "      <td>0.683455</td>\n",
       "      <td>0.749889</td>\n",
       "    </tr>\n",
       "  </tbody>\n",
       "</table>\n",
       "</div>"
      ],
      "text/plain": [
       "       new_machine  old_machine\n",
       "count    10.000000    10.000000\n",
       "mean     42.140000    43.230000\n",
       "std       0.683455     0.749889"
      ]
     },
     "execution_count": 33,
     "metadata": {},
     "output_type": "execute_result"
    }
   ],
   "source": [
    "data_info=data.describe().head(3)\n",
    "data_info"
   ]
  },
  {
   "cell_type": "code",
   "execution_count": 34,
   "id": "ad862bd4",
   "metadata": {},
   "outputs": [],
   "source": [
    "n_1=data_info['new_machine'][0]\n",
    "n_2=data_info['old_machine'][0]\n",
    "x_bar_1=data_info['new_machine'][1]\n",
    "x_bar_2=data_info['old_machine'][1]\n",
    "s_1=data_info['new_machine'][2]\n",
    "s_2=data_info['old_machine'][2]"
   ]
  },
  {
   "cell_type": "markdown",
   "id": "83e5e472",
   "metadata": {},
   "source": [
    "Pooled standard deviation:"
   ]
  },
  {
   "cell_type": "code",
   "execution_count": 35,
   "id": "7ec72e0a",
   "metadata": {},
   "outputs": [
    {
     "data": {
      "text/plain": [
       "0.7174414416676962"
      ]
     },
     "execution_count": 35,
     "metadata": {},
     "output_type": "execute_result"
    }
   ],
   "source": [
    "s_p=np.sqrt((((n_1-1)*(s_1**2))+((n_2-1)*(s_2**2)))/(n_1+n_2-2))\n",
    "s_p"
   ]
  },
  {
   "cell_type": "markdown",
   "id": "146c11db",
   "metadata": {},
   "source": [
    "Calculate the t-value:"
   ]
  },
  {
   "cell_type": "code",
   "execution_count": 37,
   "id": "7c90bf19",
   "metadata": {},
   "outputs": [
    {
     "data": {
      "text/plain": [
       "-3.397"
      ]
     },
     "execution_count": 37,
     "metadata": {},
     "output_type": "execute_result"
    }
   ],
   "source": [
    "t=(x_bar_1-x_bar_2)/(s_p*np.sqrt(2/10)) \n",
    "round(t,3)"
   ]
  },
  {
   "cell_type": "markdown",
   "id": "9927071d",
   "metadata": {},
   "source": [
    "critical t-value for a one-tailed test with 9 degrees of freedom:"
   ]
  },
  {
   "cell_type": "code",
   "execution_count": 39,
   "id": "cfa610c0",
   "metadata": {},
   "outputs": [
    {
     "data": {
      "text/plain": [
       "1.833"
      ]
     },
     "execution_count": 39,
     "metadata": {},
     "output_type": "execute_result"
    }
   ],
   "source": [
    "t_c=stats.t.ppf(0.95, 9)\n",
    "round(t_c,3)"
   ]
  },
  {
   "cell_type": "markdown",
   "id": "d32cbdff",
   "metadata": {},
   "source": [
    "Since our calculated **t-value: -3.397** is less than the **critical t-value: 1.833**, we can reject the null hypothesis.\n",
    "\n",
    "**This means that there is sufficient evidence to show that the new machine packs cartons faster on average than the old machine.**"
   ]
  }
 ],
 "metadata": {
  "kernelspec": {
   "display_name": "Python 3 (ipykernel)",
   "language": "python",
   "name": "python3"
  },
  "language_info": {
   "codemirror_mode": {
    "name": "ipython",
    "version": 3
   },
   "file_extension": ".py",
   "mimetype": "text/x-python",
   "name": "python",
   "nbconvert_exporter": "python",
   "pygments_lexer": "ipython3",
   "version": "3.9.15"
  }
 },
 "nbformat": 4,
 "nbformat_minor": 5
}
